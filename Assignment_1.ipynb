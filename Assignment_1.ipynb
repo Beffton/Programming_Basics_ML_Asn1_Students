{
 "cells": [
  {
   "cell_type": "code",
   "execution_count": 5,
   "metadata": {},
   "outputs": [
    {
     "ename": "SyntaxError",
     "evalue": "invalid syntax (1269709411.py, line 1)",
     "output_type": "error",
     "traceback": [
      "\u001b[1;36m  Cell \u001b[1;32mIn[5], line 1\u001b[1;36m\u001b[0m\n\u001b[1;33m    pip install pandas\u001b[0m\n\u001b[1;37m        ^\u001b[0m\n\u001b[1;31mSyntaxError\u001b[0m\u001b[1;31m:\u001b[0m invalid syntax\n"
     ]
    }
   ],
   "source": [
    "pip install pandas\n",
    "\n",
    "import pandas as pd\n",
    "\n",
    "class myinventory:\n",
    "    def __init__ (self,name,main_category,sub_category,image,rating,no_of_ratings,discount_price,actual_price):  #define a class that contains all the columns from the csv file\n",
    "        self.name = name\n",
    "        self.main_category = main_category\n",
    "        self.sub_category = sub_category\n",
    "        self.image = image\n",
    "        self.rating = rating\n",
    "        self.num_ratings = no_of_ratings\n",
    "        self.discount_price = discount_price\n",
    "        self.actual_price = actual_price\n",
    "\n",
    "def display_product_info(self):\n",
    "        print(f\"Name: {self.name}\")\n",
    "        print(f\"Main Category: {self.main_category}\")\n",
    "        print(f\"Sub Category: {self.sub_category}\")\n",
    "        print(f\"Image: {self.image}\")\n",
    "        print(f\"Rating: {self.rating}\")\n",
    "        print(f\"Number of Ratings: {self.num_ratings}\")\n",
    "        print(f\"Discount Price: ${self.discount_price:.2f}\")\n",
    "        print(f\"Actual Price: ${self.actual_price:.2f}\")\n"
   ]
  }
 ],
 "metadata": {
  "kernelspec": {
   "display_name": "Python 3",
   "language": "python",
   "name": "python3"
  },
  "language_info": {
   "codemirror_mode": {
    "name": "ipython",
    "version": 3
   },
   "file_extension": ".py",
   "mimetype": "text/x-python",
   "name": "python",
   "nbconvert_exporter": "python",
   "pygments_lexer": "ipython3",
   "version": "3.10.13"
  }
 },
 "nbformat": 4,
 "nbformat_minor": 2
}
